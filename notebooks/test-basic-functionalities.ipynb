{
 "cells": [
  {
   "cell_type": "code",
   "execution_count": 2,
   "id": "5f17f0c7-1226-47d7-b235-766149bc800e",
   "metadata": {},
   "outputs": [],
   "source": [
    "import pandas as pd\n",
    "from sql_table_qa.dbutils.database_connector import DatabaseConnector"
   ]
  },
  {
   "cell_type": "code",
   "execution_count": 3,
   "id": "5f66765a-1a1f-4401-a7c4-eebebe46ba4a",
   "metadata": {},
   "outputs": [
    {
     "data": {
      "text/plain": [
       "[{'type': 'function',\n",
       "  'function': {'name': 'create_open_ai_assistant_tools',\n",
       "   'description': 'Extracts and returns information about all public methods of this class as a list\\nof dictionaries specifyind OpenAI Assistant tools.\\nin this format:\\n{\\n    \"tool_name\": \"execute_sql\",\\n    \"description\": \"Executes an SQL statement on the Chinook database and get back the results.\",\\n    \"schema\": {\\n        arg: arg type\\n    }\\n}',\n",
       "   'parameters': {'type': 'object', 'properties': {}}}},\n",
       " {'type': 'function',\n",
       "  'function': {'name': 'execute_sql',\n",
       "   'description': 'Executes an SQL statement on the Chinook database and get back the results.\\n\\nArgs:\\nsql (str): The SQL statement to execute.\\n\\nReturns:\\nlist: A list of tuples representing the result of the SQL query.',\n",
       "   'parameters': {'type': 'object',\n",
       "    'properties': {'sql': {'type': 'str',\n",
       "      'description': \"str(object='') -> str\\nstr(bytes_or_buffer[, encoding[, errors]]) -> str\\n\\nCreate a new string object from the given object. If encoding or\\nerrors is specified, then the object must expose a data buffer\\nthat will be decoded using the given encoding and error handler.\\nOtherwise, returns the result of object.__str__() (if defined)\\nor repr(object).\\nencoding defaults to sys.getdefaultencoding().\\nerrors defaults to 'strict'.\"}}}}},\n",
       " {'type': 'function',\n",
       "  'function': {'name': 'get_methods_info',\n",
       "   'description': 'Extracts and returns information about all public methods of this class as a Python dict.',\n",
       "   'parameters': {'type': 'object', 'properties': {}}}},\n",
       " {'type': 'function',\n",
       "  'function': {'name': 'get_methods_info_string',\n",
       "   'description': 'Extracts and returns information about all public methods of this class as a JSON string.',\n",
       "   'parameters': {'type': 'object', 'properties': {}}}},\n",
       " {'type': 'function',\n",
       "  'function': {'name': 'get_table_names_and_description',\n",
       "   'description': 'Returns the name and description of all tables in the Chinook dataset.\\n\\nReturns:\\nlist: A list of table names and descriptions tuples.',\n",
       "   'parameters': {'type': 'object', 'properties': {}}}},\n",
       " {'type': 'function',\n",
       "  'function': {'name': 'get_table_schema',\n",
       "   'description': 'Returns the schema of a specific table in the Chinook dataset.\\n\\nArgs:\\ntable_name (str): The name of the table whose schema is to be returned.\\n\\nReturns:\\ndict: A dictionary containing column names and data types of the table.',\n",
       "   'parameters': {'type': 'object',\n",
       "    'properties': {'table_name': {'type': 'str',\n",
       "      'description': \"str(object='') -> str\\nstr(bytes_or_buffer[, encoding[, errors]]) -> str\\n\\nCreate a new string object from the given object. If encoding or\\nerrors is specified, then the object must expose a data buffer\\nthat will be decoded using the given encoding and error handler.\\nOtherwise, returns the result of object.__str__() (if defined)\\nor repr(object).\\nencoding defaults to sys.getdefaultencoding().\\nerrors defaults to 'strict'.\"}}}}},\n",
       " {'type': 'function',\n",
       "  'function': {'name': 'validate_sql',\n",
       "   'description': 'Validates an SQL statement.\\n\\nArgs:\\nsql (str): The SQL statement to validate.\\n\\nReturns:\\nbool: True if the SQL statement is valid, False otherwise.',\n",
       "   'parameters': {'type': 'object',\n",
       "    'properties': {'sql': {'type': 'str',\n",
       "      'description': \"str(object='') -> str\\nstr(bytes_or_buffer[, encoding[, errors]]) -> str\\n\\nCreate a new string object from the given object. If encoding or\\nerrors is specified, then the object must expose a data buffer\\nthat will be decoded using the given encoding and error handler.\\nOtherwise, returns the result of object.__str__() (if defined)\\nor repr(object).\\nencoding defaults to sys.getdefaultencoding().\\nerrors defaults to 'strict'.\"}}}}}]"
      ]
     },
     "execution_count": 3,
     "metadata": {},
     "output_type": "execute_result"
    }
   ],
   "source": [
    "DatabaseConnector.create_open_ai_assistant_tools()"
   ]
  },
  {
   "cell_type": "code",
   "execution_count": 2,
   "id": "331936fa-1849-4fab-b443-60c594193044",
   "metadata": {},
   "outputs": [],
   "source": [
    "conn = DatabaseConnector()"
   ]
  },
  {
   "cell_type": "code",
   "execution_count": 3,
   "id": "086189b8-b82c-48fd-93b3-e351f260cdbe",
   "metadata": {},
   "outputs": [],
   "source": [
    "eval = pd.read_csv(\"../data/evaluation_dataset.csv\")"
   ]
  },
  {
   "cell_type": "code",
   "execution_count": 4,
   "id": "804a72b2-3764-446c-9712-76da334c5cfb",
   "metadata": {},
   "outputs": [
    {
     "name": "stdout",
     "output_type": "stream",
     "text": [
      "[(3503,)]\n",
      "[(2328.600000000004,)]\n",
      "[('Rock',)]\n",
      "[(25.86,)]\n",
      "[('The Woman King',)]\n",
      "[('Helena Holý',)]\n",
      "[('Iron Maiden',)]\n",
      "[('Jane Peacock',)]\n",
      "[('Music',)]\n",
      "[('Rock',)]\n",
      "[(6,)]\n",
      "[('Steve Johnson',)]\n",
      "[('Luis Rojas',)]\n",
      "[('4', 5.911525423728816)]\n",
      "[('Intoitus: Adorate Deum',)]\n",
      "[('Steve Harris',)]\n"
     ]
    }
   ],
   "source": [
    "for sql_query in eval['sql_query'].values:\n",
    "    print(conn.execute_sql(sql_query))"
   ]
  },
  {
   "cell_type": "code",
   "execution_count": 5,
   "id": "022dafa2-c399-42e3-9b72-680c81a5c041",
   "metadata": {},
   "outputs": [
    {
     "name": "stdout",
     "output_type": "stream",
     "text": [
      "True\n",
      "True\n",
      "True\n",
      "True\n",
      "True\n",
      "True\n",
      "True\n",
      "True\n",
      "True\n",
      "True\n",
      "True\n",
      "True\n",
      "True\n",
      "True\n",
      "True\n",
      "True\n"
     ]
    }
   ],
   "source": [
    "for sql_query in eval['sql_query'].values:\n",
    "    print(conn.validate_sql(sql_query))"
   ]
  },
  {
   "cell_type": "code",
   "execution_count": 6,
   "id": "0667b379-fb68-4ffe-98c4-619371e30e58",
   "metadata": {},
   "outputs": [
    {
     "data": {
      "text/plain": [
       "[('Album', 'Stores album related data'),\n",
       " ('Artist', 'Stores artist related data'),\n",
       " ('Customer', 'Stores customer related data'),\n",
       " ('Employee', 'Stores employee related data'),\n",
       " ('Genre', 'Stores different musical genre types'),\n",
       " ('MediaType', 'Stores types of media formats available'),\n",
       " ('Playlist', 'Stores playlist data'),\n",
       " ('PlaylistTrack', 'Associative table linking playlists to tracks'),\n",
       " ('Track', 'Stores detailed information about each music track'),\n",
       " ('Invoice', 'Stores invoice data for customer purchases'),\n",
       " ('InvoiceLine', 'Stores line items of an invoice')]"
      ]
     },
     "execution_count": 6,
     "metadata": {},
     "output_type": "execute_result"
    }
   ],
   "source": [
    "conn.get_table_names_and_description()"
   ]
  },
  {
   "cell_type": "code",
   "execution_count": 7,
   "id": "dadad47f-96fb-4a5c-ac93-dfacbd2d6b70",
   "metadata": {},
   "outputs": [
    {
     "data": {
      "text/plain": [
       "{'desc': 'Stores album related data',\n",
       " 'columns': {'AlbumId': {'dtype': 'INTEGER',\n",
       "   'desc': 'Primary key of the album table.'},\n",
       "  'Title': {'dtype': 'NVARCHAR(160)', 'desc': 'Title of the album.'},\n",
       "  'ArtistId': {'dtype': 'INTEGER',\n",
       "   'desc': 'Foreign key that references the Artist table.'}}}"
      ]
     },
     "execution_count": 7,
     "metadata": {},
     "output_type": "execute_result"
    }
   ],
   "source": [
    "conn.get_table_schema('Album')"
   ]
  }
 ],
 "metadata": {
  "kernelspec": {
   "display_name": "sql-table-qa",
   "language": "python",
   "name": "sql-table-qa"
  },
  "language_info": {
   "codemirror_mode": {
    "name": "ipython",
    "version": 3
   },
   "file_extension": ".py",
   "mimetype": "text/x-python",
   "name": "python",
   "nbconvert_exporter": "python",
   "pygments_lexer": "ipython3",
   "version": "3.11.9"
  }
 },
 "nbformat": 4,
 "nbformat_minor": 5
}
