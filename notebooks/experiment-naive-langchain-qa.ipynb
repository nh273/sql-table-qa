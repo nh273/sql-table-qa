{
 "cells": [
  {
   "cell_type": "code",
   "execution_count": 1,
   "id": "c2d58c81-08b6-4c30-bc89-e5935c0d78a2",
   "metadata": {},
   "outputs": [],
   "source": [
    "import os\n",
    "import sqlite3\n",
    "from dotenv import dotenv_values\n",
    "from langchain_openai import ChatOpenAI\n",
    "\n",
    "config = {**dotenv_values(\"../configs/local.env\")}"
   ]
  },
  {
   "cell_type": "code",
   "execution_count": 2,
   "id": "d882e954-4d38-4385-a0e4-213675d0c95a",
   "metadata": {},
   "outputs": [],
   "source": [
    "os.environ[\"OPENAI_API_KEY\"] = config[\"OPENAI_API_KEY\"]"
   ]
  },
  {
   "cell_type": "code",
   "execution_count": 3,
   "id": "76c75dc9-2263-4e7d-a6fa-8f22ee4ab03b",
   "metadata": {},
   "outputs": [],
   "source": [
    "llm = ChatOpenAI(model=\"gpt-3.5-turbo-0125\")"
   ]
  },
  {
   "cell_type": "code",
   "execution_count": 14,
   "id": "88ba81ab-66da-4ba4-a9c2-761501650058",
   "metadata": {
    "scrolled": true
   },
   "outputs": [
    {
     "name": "stderr",
     "output_type": "stream",
     "text": [
      "/Users/pnguyen/.pyenv/versions/miniconda3-4.5.4/envs/sql-table-qa/lib/python3.11/site-packages/langchain_community/utilities/sql_database.py:375: SAWarning: Dialect sqlite+pysqlite does *not* support Decimal objects natively, and SQLAlchemy must convert from floating point - rounding errors and other issues may occur. Please consider storing Decimal numbers as strings or integers on this platform for lossless storage.\n",
      "  sample_rows_result = connection.execute(command)  # type: ignore\n"
     ]
    },
    {
     "data": {
      "text/plain": [
       "'There are 8 employees.'"
      ]
     },
     "execution_count": 14,
     "metadata": {},
     "output_type": "execute_result"
    }
   ],
   "source": [
    "from operator import itemgetter\n",
    "from langchain.chains import create_sql_query_chain\n",
    "from langchain_core.output_parsers import StrOutputParser\n",
    "from langchain_core.prompts import PromptTemplate\n",
    "from langchain_core.runnables import RunnablePassthrough\n",
    "from langchain_community.utilities import SQLDatabase\n",
    "\n",
    "from sql_table_qa.answerers.langchain_answerer.langchain_sql_connector import execute_sql\n",
    "from CONSTANTS import ROOT_DIR\n",
    "\n",
    "execute_query = execute_sql\n",
    "db = SQLDatabase.from_uri(f\"sqlite:///{ROOT_DIR}/data/Chinook.db\")\n",
    "write_query = create_sql_query_chain(llm, db)\n",
    "\n",
    "answer_prompt = PromptTemplate.from_template(\n",
    "    \"\"\"Given the following user question, corresponding SQL query, and SQL result, answer the user question.\n",
    "    \n",
    "    Question: {question}\n",
    "    SQL Query: {query}\n",
    "    SQL Result: {result}\n",
    "    Answer: \"\"\"\n",
    ")\n",
    "\n",
    "answer = answer_prompt | llm | StrOutputParser()\n",
    "\n",
    "chain = (\n",
    "    RunnablePassthrough.assign(query=write_query).assign(\n",
    "        result=itemgetter(\"query\") | execute_query\n",
    "    )\n",
    "    | answer\n",
    ")\n",
    "\n",
    "chain.invoke({\"question\": \"How many employees are there\"})"
   ]
  },
  {
   "cell_type": "code",
   "execution_count": 5,
   "id": "4738f264-093c-473c-9d46-a565a53de5f1",
   "metadata": {},
   "outputs": [
    {
     "data": {
      "text/plain": [
       "'The SQL query is attempting to retrieve the customer who has spent the most money in total by joining the customers and invoices tables, summing up the total amount spent by each customer, and ordering the results in descending order. However, the error \"no such table: customers\" indicates that the \\'customers\\' table does not exist in the database. The query needs to be modified to reference the correct table containing customer information.'"
      ]
     },
     "execution_count": 5,
     "metadata": {},
     "output_type": "execute_result"
    }
   ],
   "source": [
    "chain.invoke({\"question\": \"Which customer has spent the most money in total?\"})"
   ]
  },
  {
   "cell_type": "code",
   "execution_count": 6,
   "id": "df6b9ee7-edb9-428f-aea7-f69ff2dbfebe",
   "metadata": {
    "scrolled": true
   },
   "outputs": [
    {
     "data": {
      "text/plain": [
       "{'question': 'Which customer has spent the most money in total?',\n",
       " 'query': 'SELECT \"CustomerID\", SUM(\"TotalAmount\") AS total_spent\\nFROM \"Orders\"\\nGROUP BY \"CustomerID\"\\nORDER BY total_spent DESC\\nLIMIT 1;',\n",
       " 'result': 'no such table: Orders'}"
      ]
     },
     "execution_count": 6,
     "metadata": {},
     "output_type": "execute_result"
    }
   ],
   "source": [
    "RunnablePassthrough.assign(query=write_query).assign(result=itemgetter(\"query\") | execute_query).invoke({\"question\": \"Which customer has spent the most money in total?\"})"
   ]
  },
  {
   "cell_type": "code",
   "execution_count": 9,
   "id": "374a81d6-d21c-4b68-9515-e12293d33568",
   "metadata": {
    "scrolled": true
   },
   "outputs": [
    {
     "data": {
      "text/plain": [
       "RunnableAssign(mapper={\n",
       "  input: RunnableLambda(...),\n",
       "  table_info: RunnableLambda(...)\n",
       "})\n",
       "| RunnableLambda(lambda x: {k: v for k, v in x.items() if k not in ('question', 'table_names_to_use')})\n",
       "| PromptTemplate(input_variables=['input', 'table_info'], partial_variables={'top_k': '5'}, template='You are a SQLite expert. Given an input question, first create a syntactically correct SQLite query to run, then look at the results of the query and return the answer to the input question.\\nUnless the user specifies in the question a specific number of examples to obtain, query for at most {top_k} results using the LIMIT clause as per SQLite. You can order the results to return the most informative data in the database.\\nNever query for all columns from a table. You must query only the columns that are needed to answer the question. Wrap each column name in double quotes (\") to denote them as delimited identifiers.\\nPay attention to use only the column names you can see in the tables below. Be careful to not query for columns that do not exist. Also, pay attention to which column is in which table.\\nPay attention to use date(\\'now\\') function to get the current date, if the question involves \"today\".\\n\\nUse the following format:\\n\\nQuestion: Question here\\nSQLQuery: SQL Query to run\\nSQLResult: Result of the SQLQuery\\nAnswer: Final answer here\\n\\nOnly use the following tables:\\n{table_info}\\n\\nQuestion: {input}')\n",
       "| RunnableBinding(bound=ChatOpenAI(client=<openai.resources.chat.completions.Completions object at 0x10cd72590>, async_client=<openai.resources.chat.completions.AsyncCompletions object at 0x10ce6eed0>, model_name='gpt-3.5-turbo-0125', openai_api_key=SecretStr('**********'), openai_proxy=''), kwargs={'stop': ['\\nSQLResult:']})\n",
       "| StrOutputParser()\n",
       "| RunnableLambda(_strip)"
      ]
     },
     "execution_count": 9,
     "metadata": {},
     "output_type": "execute_result"
    }
   ],
   "source": [
    "write_query"
   ]
  },
  {
   "cell_type": "code",
   "execution_count": 10,
   "id": "f69c09c8-493e-4690-b46e-d93ec6527d33",
   "metadata": {},
   "outputs": [
    {
     "data": {
      "text/plain": [
       "'SELECT \"CustomerID\", SUM(\"Total\") AS total_spent\\nFROM orders\\nGROUP BY \"CustomerID\"\\nORDER BY total_spent DESC\\nLIMIT 1;'"
      ]
     },
     "execution_count": 10,
     "metadata": {},
     "output_type": "execute_result"
    }
   ],
   "source": [
    "write_query.invoke({\"question\": \"Which customer has spent the most money in total?\"})"
   ]
  }
 ],
 "metadata": {
  "kernelspec": {
   "display_name": "sql-table-qa",
   "language": "python",
   "name": "sql-table-qa"
  },
  "language_info": {
   "codemirror_mode": {
    "name": "ipython",
    "version": 3
   },
   "file_extension": ".py",
   "mimetype": "text/x-python",
   "name": "python",
   "nbconvert_exporter": "python",
   "pygments_lexer": "ipython3",
   "version": "3.11.9"
  }
 },
 "nbformat": 4,
 "nbformat_minor": 5
}
