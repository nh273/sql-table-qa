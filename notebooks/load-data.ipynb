{
 "cells": [
  {
   "cell_type": "code",
   "execution_count": 9,
   "id": "903669af-c364-4de5-8097-5eb3061b77b6",
   "metadata": {},
   "outputs": [],
   "source": [
    "import os\n",
    "import sqlite3\n",
    "from CONSTANTS import ROOT_DIR"
   ]
  },
  {
   "cell_type": "code",
   "execution_count": 6,
   "id": "4dfb2f1b-e4e3-4fa7-84ad-959beb745826",
   "metadata": {},
   "outputs": [],
   "source": [
    "con = sqlite3.connect(\":memory:\")"
   ]
  },
  {
   "cell_type": "code",
   "execution_count": 7,
   "id": "5dcf1f8f-502c-439a-bf4e-13f1e1d82749",
   "metadata": {},
   "outputs": [],
   "source": [
    "with open(f'{ROOT_DIR}/scripts/Chinook_Sqlite.sql', 'r') as sql_file:\n",
    "    sql_script = sql_file.read()"
   ]
  },
  {
   "cell_type": "code",
   "execution_count": 8,
   "id": "60ff7363-4d09-4dfa-b175-0eecce3f66a5",
   "metadata": {},
   "outputs": [],
   "source": [
    "cursor = con.cursor()\n",
    "cursor.executescript(sql_script)\n",
    "con.commit()\n",
    "con.execute(f\"vacuum main into '{ROOT_DIR}/data/Chinook.db'\")\n",
    "con.close()"
   ]
  }
 ],
 "metadata": {
  "kernelspec": {
   "display_name": "sql-table-qa",
   "language": "python",
   "name": "sql-table-qa"
  },
  "language_info": {
   "codemirror_mode": {
    "name": "ipython",
    "version": 3
   },
   "file_extension": ".py",
   "mimetype": "text/x-python",
   "name": "python",
   "nbconvert_exporter": "python",
   "pygments_lexer": "ipython3",
   "version": "3.11.9"
  }
 },
 "nbformat": 4,
 "nbformat_minor": 5
}
