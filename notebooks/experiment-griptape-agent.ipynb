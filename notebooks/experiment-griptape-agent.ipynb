{
 "cells": [
  {
   "cell_type": "code",
   "execution_count": 2,
   "id": "c01cf4ad-2213-4e10-9bb5-82ee1cd5cd75",
   "metadata": {},
   "outputs": [],
   "source": [
    "import os\n",
    "from dotenv import dotenv_values\n",
    "\n",
    "config = {**dotenv_values(\"../configs/local.env\")}\n",
    "os.environ[\"OPENAI_API_KEY\"] = config[\"OPENAI_API_KEY\"]"
   ]
  },
  {
   "cell_type": "code",
   "execution_count": null,
   "id": "85480167-ee42-474f-b3d2-7a1e46d71aaa",
   "metadata": {},
   "outputs": [],
   "source": [
    "from griptape.structures import Agent\n",
    "from griptape.drivers import OpenAiChatPromptDriver, OpenAiEmbeddingDriver\n",
    "from griptape.config import StructureConfig, StructureGlobalDriversConfig\n",
    "\n",
    "from sql_table_qa.answerers.griptape_answerer.griptape_sql_tool.tool import DatabaseQueryTool\n",
    "\n",
    "db_tool = DatabaseQueryTool()\n",
    "\n",
    "agent = Agent(\n",
    "    config=StructureConfig(\n",
    "        global_drivers=StructureGlobalDriversConfig(\n",
    "            prompt_driver=OpenAiChatPromptDriver(model=\"gpt-3.5-turbo-0125\"),\n",
    "            embedding_driver=OpenAiEmbeddingDriver(model='text-embedding-3-small'),        )\n",
    "    ),\n",
    "    tools=[db_tool]\n",
    ")\n"
   ]
  },
  {
   "cell_type": "code",
   "execution_count": 6,
   "id": "db2371f7-4d48-439a-8cd4-539bd54600ce",
   "metadata": {
    "scrolled": true
   },
   "outputs": [
    {
     "data": {
      "text/html": [
       "<pre style=\"white-space:pre;overflow-x:auto;line-height:normal;font-family:Menlo,'DejaVu Sans Mono',consolas,'Courier New',monospace\"><span style=\"color: #7fbfbf; text-decoration-color: #7fbfbf\">[04/26/24 18:01:15] </span><span style=\"color: #000080; text-decoration-color: #000080\">INFO    </span> ToolkitTask f322822bf7d6464c8c0b49fcd58e3c86                                          \n",
       "<span style=\"color: #7fbfbf; text-decoration-color: #7fbfbf\">                    </span>         Input: How many employees are there?                                                  \n",
       "</pre>\n"
      ],
      "text/plain": [
       "\u001b[2;36m[04/26/24 18:01:15]\u001b[0m\u001b[2;36m \u001b[0m\u001b[34mINFO    \u001b[0m ToolkitTask f322822bf7d6464c8c0b49fcd58e3c86                                          \n",
       "\u001b[2;36m                    \u001b[0m         Input: How many employees are there?                                                  \n"
      ]
     },
     "metadata": {},
     "output_type": "display_data"
    },
    {
     "data": {
      "text/html": [
       "<pre style=\"white-space:pre;overflow-x:auto;line-height:normal;font-family:Menlo,'DejaVu Sans Mono',consolas,'Courier New',monospace\"><span style=\"color: #7fbfbf; text-decoration-color: #7fbfbf\">[04/26/24 18:01:17] </span><span style=\"color: #000080; text-decoration-color: #000080\">INFO    </span> ToolkitTask f322822bf7d6464c8c0b49fcd58e3c86                                          \n",
       "<span style=\"color: #7fbfbf; text-decoration-color: #7fbfbf\">                    </span>         Output: <span style=\"font-weight: bold\">{</span><span style=\"color: #008000; text-decoration-color: #008000\">\"thought\"</span>: <span style=\"color: #008000; text-decoration-color: #008000\">\"I have already executed the SQL query to count the total number </span> \n",
       "<span style=\"color: #7fbfbf; text-decoration-color: #7fbfbf\">                    </span>         <span style=\"color: #008000; text-decoration-color: #008000\">of employees in the database. I will retrieve the result now.\"</span>, <span style=\"color: #008000; text-decoration-color: #008000\">\"actions\"</span>: <span style=\"font-weight: bold\">[{</span><span style=\"color: #008000; text-decoration-color: #008000\">\"name\"</span>:  \n",
       "<span style=\"color: #7fbfbf; text-decoration-color: #7fbfbf\">                    </span>         <span style=\"color: #008000; text-decoration-color: #008000\">\"DatabaseQueryTool\"</span>, <span style=\"color: #008000; text-decoration-color: #008000\">\"path\"</span>: <span style=\"color: #008000; text-decoration-color: #008000\">\"execute_sql\"</span>, <span style=\"color: #008000; text-decoration-color: #008000\">\"input\"</span>: <span style=\"font-weight: bold\">{</span><span style=\"color: #008000; text-decoration-color: #008000\">\"values\"</span>: <span style=\"font-weight: bold\">{</span><span style=\"color: #008000; text-decoration-color: #008000\">\"sql\"</span>: <span style=\"color: #008000; text-decoration-color: #008000\">\"SELECT </span>      \n",
       "<span style=\"color: #7fbfbf; text-decoration-color: #7fbfbf\">                    </span>         <span style=\"color: #008000; text-decoration-color: #008000\">COUNT(*) AS employee_count FROM employees;\"</span><span style=\"font-weight: bold\">}}</span>, <span style=\"color: #008000; text-decoration-color: #008000\">\"tag\"</span>: <span style=\"color: #008000; text-decoration-color: #008000\">\"count_employees\"</span><span style=\"font-weight: bold\">}]}</span>            \n",
       "</pre>\n"
      ],
      "text/plain": [
       "\u001b[2;36m[04/26/24 18:01:17]\u001b[0m\u001b[2;36m \u001b[0m\u001b[34mINFO    \u001b[0m ToolkitTask f322822bf7d6464c8c0b49fcd58e3c86                                          \n",
       "\u001b[2;36m                    \u001b[0m         Output: \u001b[1m{\u001b[0m\u001b[32m\"thought\"\u001b[0m: \u001b[32m\"I have already executed the SQL query to count the total number \u001b[0m \n",
       "\u001b[2;36m                    \u001b[0m         \u001b[32mof employees in the database. I will retrieve the result now.\"\u001b[0m, \u001b[32m\"actions\"\u001b[0m: \u001b[1m[\u001b[0m\u001b[1m{\u001b[0m\u001b[32m\"name\"\u001b[0m:  \n",
       "\u001b[2;36m                    \u001b[0m         \u001b[32m\"DatabaseQueryTool\"\u001b[0m, \u001b[32m\"path\"\u001b[0m: \u001b[32m\"execute_sql\"\u001b[0m, \u001b[32m\"input\"\u001b[0m: \u001b[1m{\u001b[0m\u001b[32m\"values\"\u001b[0m: \u001b[1m{\u001b[0m\u001b[32m\"sql\"\u001b[0m: \u001b[32m\"SELECT \u001b[0m      \n",
       "\u001b[2;36m                    \u001b[0m         \u001b[32mCOUNT\u001b[0m\u001b[32m(\u001b[0m\u001b[32m*\u001b[0m\u001b[32m)\u001b[0m\u001b[32m AS employee_count FROM employees;\"\u001b[0m\u001b[1m}\u001b[0m\u001b[1m}\u001b[0m, \u001b[32m\"tag\"\u001b[0m: \u001b[32m\"count_employees\"\u001b[0m\u001b[1m}\u001b[0m\u001b[1m]\u001b[0m\u001b[1m}\u001b[0m            \n"
      ]
     },
     "metadata": {},
     "output_type": "display_data"
    }
   ],
   "source": [
    "res = agent.run(\n",
    "    \"How many employees are there?\"\n",
    ")"
   ]
  },
  {
   "cell_type": "code",
   "execution_count": 7,
   "id": "94b5fceb-6a09-4bf5-9801-7b9903a2c650",
   "metadata": {},
   "outputs": [
    {
     "data": {
      "text/html": [
       "<pre style=\"white-space:pre;overflow-x:auto;line-height:normal;font-family:Menlo,'DejaVu Sans Mono',consolas,'Courier New',monospace\"><span style=\"color: #7fbfbf; text-decoration-color: #7fbfbf\">[04/26/24 18:01:26] </span><span style=\"color: #000080; text-decoration-color: #000080\">INFO    </span> ToolkitTask f322822bf7d6464c8c0b49fcd58e3c86                                          \n",
       "<span style=\"color: #7fbfbf; text-decoration-color: #7fbfbf\">                    </span>         Input: How many tracks are there in the database?                                     \n",
       "</pre>\n"
      ],
      "text/plain": [
       "\u001b[2;36m[04/26/24 18:01:26]\u001b[0m\u001b[2;36m \u001b[0m\u001b[34mINFO    \u001b[0m ToolkitTask f322822bf7d6464c8c0b49fcd58e3c86                                          \n",
       "\u001b[2;36m                    \u001b[0m         Input: How many tracks are there in the database?                                     \n"
      ]
     },
     "metadata": {},
     "output_type": "display_data"
    },
    {
     "data": {
      "text/html": [
       "<pre style=\"white-space:pre;overflow-x:auto;line-height:normal;font-family:Menlo,'DejaVu Sans Mono',consolas,'Courier New',monospace\"><span style=\"color: #7fbfbf; text-decoration-color: #7fbfbf\">[04/26/24 18:01:27] </span><span style=\"color: #000080; text-decoration-color: #000080\">INFO    </span> ToolkitTask f322822bf7d6464c8c0b49fcd58e3c86                                          \n",
       "<span style=\"color: #7fbfbf; text-decoration-color: #7fbfbf\">                    </span>         Output: <span style=\"font-weight: bold\">{</span><span style=\"color: #008000; text-decoration-color: #008000\">\"thought\"</span>: <span style=\"color: #008000; text-decoration-color: #008000\">\"I have previously queried the database for the total number of </span>  \n",
       "<span style=\"color: #7fbfbf; text-decoration-color: #7fbfbf\">                    </span>         <span style=\"color: #008000; text-decoration-color: #008000\">tracks. I will retrieve the result now.\"</span>, <span style=\"color: #008000; text-decoration-color: #008000\">\"actions\"</span>: <span style=\"font-weight: bold\">[{</span><span style=\"color: #008000; text-decoration-color: #008000\">\"name\"</span>: <span style=\"color: #008000; text-decoration-color: #008000\">\"DatabaseQueryTool\"</span>,   \n",
       "<span style=\"color: #7fbfbf; text-decoration-color: #7fbfbf\">                    </span>         <span style=\"color: #008000; text-decoration-color: #008000\">\"path\"</span>: <span style=\"color: #008000; text-decoration-color: #008000\">\"execute_sql\"</span>, <span style=\"color: #008000; text-decoration-color: #008000\">\"input\"</span>: <span style=\"font-weight: bold\">{</span><span style=\"color: #008000; text-decoration-color: #008000\">\"values\"</span>: <span style=\"font-weight: bold\">{</span><span style=\"color: #008000; text-decoration-color: #008000\">\"sql\"</span>: <span style=\"color: #008000; text-decoration-color: #008000\">\"SELECT COUNT(*) AS track_count </span>   \n",
       "<span style=\"color: #7fbfbf; text-decoration-color: #7fbfbf\">                    </span>         <span style=\"color: #008000; text-decoration-color: #008000\">FROM Track;\"</span><span style=\"font-weight: bold\">}}</span>, <span style=\"color: #008000; text-decoration-color: #008000\">\"tag\"</span>: <span style=\"color: #008000; text-decoration-color: #008000\">\"count_tracks\"</span><span style=\"font-weight: bold\">}]}</span>                                              \n",
       "</pre>\n"
      ],
      "text/plain": [
       "\u001b[2;36m[04/26/24 18:01:27]\u001b[0m\u001b[2;36m \u001b[0m\u001b[34mINFO    \u001b[0m ToolkitTask f322822bf7d6464c8c0b49fcd58e3c86                                          \n",
       "\u001b[2;36m                    \u001b[0m         Output: \u001b[1m{\u001b[0m\u001b[32m\"thought\"\u001b[0m: \u001b[32m\"I have previously queried the database for the total number of \u001b[0m  \n",
       "\u001b[2;36m                    \u001b[0m         \u001b[32mtracks. I will retrieve the result now.\"\u001b[0m, \u001b[32m\"actions\"\u001b[0m: \u001b[1m[\u001b[0m\u001b[1m{\u001b[0m\u001b[32m\"name\"\u001b[0m: \u001b[32m\"DatabaseQueryTool\"\u001b[0m,   \n",
       "\u001b[2;36m                    \u001b[0m         \u001b[32m\"path\"\u001b[0m: \u001b[32m\"execute_sql\"\u001b[0m, \u001b[32m\"input\"\u001b[0m: \u001b[1m{\u001b[0m\u001b[32m\"values\"\u001b[0m: \u001b[1m{\u001b[0m\u001b[32m\"sql\"\u001b[0m: \u001b[32m\"SELECT COUNT\u001b[0m\u001b[32m(\u001b[0m\u001b[32m*\u001b[0m\u001b[32m)\u001b[0m\u001b[32m AS track_count \u001b[0m   \n",
       "\u001b[2;36m                    \u001b[0m         \u001b[32mFROM Track;\"\u001b[0m\u001b[1m}\u001b[0m\u001b[1m}\u001b[0m, \u001b[32m\"tag\"\u001b[0m: \u001b[32m\"count_tracks\"\u001b[0m\u001b[1m}\u001b[0m\u001b[1m]\u001b[0m\u001b[1m}\u001b[0m                                              \n"
      ]
     },
     "metadata": {},
     "output_type": "display_data"
    }
   ],
   "source": [
    "res2 = agent.run(\n",
    "    \"How many tracks are there in the database?\"\n",
    ")"
   ]
  }
 ],
 "metadata": {
  "kernelspec": {
   "display_name": "sql-table-qa",
   "language": "python",
   "name": "sql-table-qa"
  },
  "language_info": {
   "codemirror_mode": {
    "name": "ipython",
    "version": 3
   },
   "file_extension": ".py",
   "mimetype": "text/x-python",
   "name": "python",
   "nbconvert_exporter": "python",
   "pygments_lexer": "ipython3",
   "version": "3.11.9"
  }
 },
 "nbformat": 4,
 "nbformat_minor": 5
}
